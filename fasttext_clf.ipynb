{
 "cells": [
  {
   "cell_type": "code",
   "execution_count": 4,
   "outputs": [],
   "source": [
    "import matplotlib.pyplot as plt\n",
    "import numpy as np\n",
    "import pandas as pd"
   ],
   "metadata": {
    "collapsed": false,
    "pycharm": {
     "name": "#%%\n"
    }
   }
  },
  {
   "cell_type": "code",
   "execution_count": 5,
   "outputs": [],
   "source": [
    "spam_df = pd.read_csv('./data/spam.csv', header=0, encoding=\"ISO-8859-1\")"
   ],
   "metadata": {
    "collapsed": false,
    "pycharm": {
     "name": "#%%\n"
    }
   }
  },
  {
   "cell_type": "markdown",
   "source": [
    "**数据展示**"
   ],
   "metadata": {
    "collapsed": false,
    "pycharm": {
     "name": "#%% md\n"
    }
   }
  },
  {
   "cell_type": "code",
   "execution_count": 6,
   "outputs": [
    {
     "name": "stdout",
     "output_type": "stream",
     "text": [
      "Dataset size:  (5572, 2)\n"
     ]
    },
    {
     "data": {
      "text/plain": "  label                                            message\n0   ham  Go until jurong point, crazy.. Available only ...\n1   ham                      Ok lar... Joking wif u oni...\n2  spam  Free entry in 2 a wkly comp to win FA Cup fina...\n3   ham  U dun say so early hor... U c already then say...\n4   ham  Nah I don't think he goes to usf, he lives aro...",
      "text/html": "<div>\n<style scoped>\n    .dataframe tbody tr th:only-of-type {\n        vertical-align: middle;\n    }\n\n    .dataframe tbody tr th {\n        vertical-align: top;\n    }\n\n    .dataframe thead th {\n        text-align: right;\n    }\n</style>\n<table border=\"1\" class=\"dataframe\">\n  <thead>\n    <tr style=\"text-align: right;\">\n      <th></th>\n      <th>label</th>\n      <th>message</th>\n    </tr>\n  </thead>\n  <tbody>\n    <tr>\n      <th>0</th>\n      <td>ham</td>\n      <td>Go until jurong point, crazy.. Available only ...</td>\n    </tr>\n    <tr>\n      <th>1</th>\n      <td>ham</td>\n      <td>Ok lar... Joking wif u oni...</td>\n    </tr>\n    <tr>\n      <th>2</th>\n      <td>spam</td>\n      <td>Free entry in 2 a wkly comp to win FA Cup fina...</td>\n    </tr>\n    <tr>\n      <th>3</th>\n      <td>ham</td>\n      <td>U dun say so early hor... U c already then say...</td>\n    </tr>\n    <tr>\n      <th>4</th>\n      <td>ham</td>\n      <td>Nah I don't think he goes to usf, he lives aro...</td>\n    </tr>\n  </tbody>\n</table>\n</div>"
     },
     "execution_count": 6,
     "metadata": {},
     "output_type": "execute_result"
    },
    {
     "data": {
      "text/plain": "<Figure size 720x360 with 2 Axes>",
      "image/png": "[encoded data removed]"
     },
     "metadata": {
      "needs_background": "light"
     },
     "output_type": "display_data"
    }
   ],
   "source": [
    "_, ax = plt.subplots(1, 2, figsize=(10, 5))\n",
    "spam_df['label'].value_counts().plot(ax=ax[0], kind=\"bar\", rot=90, title='label');\n",
    "spam_df['label'].value_counts().plot(ax=ax[1], kind=\"pie\", rot=90, title='label', ylabel='');\n",
    "print(\"Dataset size: \", spam_df.shape)\n",
    "\n",
    "spam_df.head(5)"
   ],
   "metadata": {
    "collapsed": false,
    "pycharm": {
     "name": "#%%\n"
    }
   }
  },
  {
   "cell_type": "code",
   "execution_count": 7,
   "outputs": [
    {
     "data": {
      "text/plain": "FileSystemPathPointer('/home/jiqiboyi03/anaconda3/envs/py37/nltk_data')"
     },
     "execution_count": 7,
     "metadata": {},
     "output_type": "execute_result"
    }
   ],
   "source": [
    "import nltk\n",
    "from nltk import word_tokenize\n",
    "from nltk.corpus import stopwords\n",
    "from nltk.stem import SnowballStemmer\n",
    "from string import punctuation\n",
    "\n",
    "import re  # 正则匹配\n",
    "\n",
    "nltk.find('.')"
   ],
   "metadata": {
    "collapsed": false,
    "pycharm": {
     "name": "#%%\n"
    }
   }
  },
  {
   "cell_type": "code",
   "execution_count": 8,
   "outputs": [],
   "source": [
    "stop_words = set(stopwords.words('english'))\n",
    "non_words = list(punctuation)"
   ],
   "metadata": {
    "collapsed": false,
    "pycharm": {
     "name": "#%%\n"
    }
   }
  },
  {
   "cell_type": "code",
   "execution_count": 9,
   "outputs": [],
   "source": [
    "stemmer = SnowballStemmer('english')"
   ],
   "metadata": {
    "collapsed": false,
    "pycharm": {
     "name": "#%%\n"
    }
   }
  },
  {
   "cell_type": "code",
   "execution_count": 10,
   "outputs": [],
   "source": [
    "def stem_tokens(tokens, stemmer):\n",
    "    stems = []\n",
    "    for token in tokens:\n",
    "        stems.append(stemmer.stem(token))\n",
    "    return stems"
   ],
   "metadata": {
    "collapsed": false,
    "pycharm": {
     "name": "#%%\n"
    }
   }
  },
  {
   "cell_type": "markdown",
   "source": [
    "**清除非英文词汇并替换数值x**"
   ],
   "metadata": {
    "collapsed": false,
    "pycharm": {
     "name": "#%% md\n"
    }
   }
  },
  {
   "cell_type": "code",
   "execution_count": 11,
   "outputs": [],
   "source": [
    "def clean_non_english_xdig(txt, isstem=True, gettok=True):\n",
    "    txt = re.sub('[0-9]', 'x', txt)  # 去数字替换为x\n",
    "    txt = txt.lower()  # 统一小写\n",
    "    txt = re.sub('[^a-zA-Z]', ' ', txt)  # 去除非英文字符并替换为空格\n",
    "    word_tokens = word_tokenize(txt)  # 分词\n",
    "    if not isstem:  # 是否做词干还原\n",
    "        filtered_word = [w for w in word_tokens if not w in stop_words]  # 删除停用词\n",
    "    else:\n",
    "        filtered_word = [stemmer.stem(w) for w in word_tokens if not w in stop_words]  # 删除停用词及词干还原\n",
    "    if gettok:  # 返回为字符串或分词列表\n",
    "        return filtered_word\n",
    "    else:\n",
    "        return \" \".join(filtered_word)"
   ],
   "metadata": {
    "collapsed": false,
    "pycharm": {
     "name": "#%%\n"
    }
   }
  },
  {
   "cell_type": "markdown",
   "source": [
    "**数据清洗**"
   ],
   "metadata": {
    "collapsed": false,
    "pycharm": {
     "name": "#%% md\n"
    }
   }
  },
  {
   "cell_type": "code",
   "execution_count": 13,
   "outputs": [],
   "source": [
    "spam_df['token'] = spam_df.message.apply(lambda x: clean_non_english_xdig(x))"
   ],
   "metadata": {
    "collapsed": false,
    "pycharm": {
     "name": "#%%\n"
    }
   }
  },
  {
   "cell_type": "markdown",
   "source": [
    "**标签整数编码**"
   ],
   "metadata": {
    "collapsed": false,
    "pycharm": {
     "name": "#%% md\n"
    }
   }
  },
  {
   "cell_type": "code",
   "execution_count": 14,
   "outputs": [],
   "source": [
    "spam_df['label'] = (spam_df.label == 'spam').astype(int)"
   ],
   "metadata": {
    "collapsed": false,
    "pycharm": {
     "name": "#%%\n"
    }
   }
  },
  {
   "cell_type": "code",
   "execution_count": 15,
   "outputs": [
    {
     "data": {
      "text/plain": "   label                                            message  \\\n0      0  Go until jurong point, crazy.. Available only ...   \n1      0                      Ok lar... Joking wif u oni...   \n2      1  Free entry in 2 a wkly comp to win FA Cup fina...   \n\n                                               token  \n0  [go, jurong, point, crazi, avail, bugi, n, gre...  \n1                       [ok, lar, joke, wif, u, oni]  \n2  [free, entri, x, wkli, comp, win, fa, cup, fin...  ",
      "text/html": "<div>\n<style scoped>\n    .dataframe tbody tr th:only-of-type {\n        vertical-align: middle;\n    }\n\n    .dataframe tbody tr th {\n        vertical-align: top;\n    }\n\n    .dataframe thead th {\n        text-align: right;\n    }\n</style>\n<table border=\"1\" class=\"dataframe\">\n  <thead>\n    <tr style=\"text-align: right;\">\n      <th></th>\n      <th>label</th>\n      <th>message</th>\n      <th>token</th>\n    </tr>\n  </thead>\n  <tbody>\n    <tr>\n      <th>0</th>\n      <td>0</td>\n      <td>Go until jurong point, crazy.. Available only ...</td>\n      <td>[go, jurong, point, crazi, avail, bugi, n, gre...</td>\n    </tr>\n    <tr>\n      <th>1</th>\n      <td>0</td>\n      <td>Ok lar... Joking wif u oni...</td>\n      <td>[ok, lar, joke, wif, u, oni]</td>\n    </tr>\n    <tr>\n      <th>2</th>\n      <td>1</td>\n      <td>Free entry in 2 a wkly comp to win FA Cup fina...</td>\n      <td>[free, entri, x, wkli, comp, win, fa, cup, fin...</td>\n    </tr>\n  </tbody>\n</table>\n</div>"
     },
     "execution_count": 15,
     "metadata": {},
     "output_type": "execute_result"
    }
   ],
   "source": [
    "spam_df.head(3)"
   ],
   "metadata": {
    "collapsed": false,
    "pycharm": {
     "name": "#%%\n"
    }
   }
  },
  {
   "cell_type": "markdown",
   "source": [
    "**训练词向量 Fasttext embed模型**"
   ],
   "metadata": {
    "collapsed": false,
    "pycharm": {
     "name": "#%% md\n"
    }
   }
  },
  {
   "cell_type": "code",
   "execution_count": 17,
   "outputs": [],
   "source": [
    "from gensim.models import FastText"
   ],
   "metadata": {
    "collapsed": false,
    "pycharm": {
     "name": "#%%\n"
    }
   }
  },
  {
   "cell_type": "code",
   "execution_count": 20,
   "outputs": [],
   "source": [
    "model = FastText(spam_df.token,\n",
    "                 vector_size=100,\n",
    "                 sg=1,\n",
    "                 window=3,\n",
    "                 min_count=1,\n",
    "                 epochs=10,\n",
    "                 min_n=3,\n",
    "                 max_n=6,\n",
    "                 word_ngrams=1,\n",
    "                 workers=12)"
   ],
   "metadata": {
    "collapsed": false,
    "pycharm": {
     "name": "#%%\n"
    }
   }
  },
  {
   "cell_type": "code",
   "execution_count": 21,
   "outputs": [
    {
     "name": "stdout",
     "output_type": "stream",
     "text": [
      "输出hello的词向量 [ 0.05076134 -0.11662222 -0.01843588  0.11926778 -0.00692911 -0.23677106\n",
      "  0.03265729  0.58572096 -0.00872138 -0.44825846  0.03305042 -0.26054367\n",
      " -0.34838268  0.31681454  0.06975181  0.08067543 -0.15547062 -0.06276258\n",
      " -0.3710448  -0.3126095  -0.40895212  0.04662197  0.5440838  -0.36142403\n",
      " -0.0353184  -0.19795361 -0.2943147   0.08752967 -0.16541521 -0.24446003\n",
      " -0.25770548 -0.07255884  0.8026316   0.05719731  0.00357276  0.18625565\n",
      "  0.21387975  0.18544139 -0.19832784  0.1481844  -0.16753505 -0.34979635\n",
      " -0.15885958  0.02662933 -0.5794388  -0.44909018 -0.21648549 -0.0577201\n",
      "  0.02627791  0.47935948  0.28716862 -0.18394181  0.10683677 -0.09927443\n",
      " -0.20707817 -0.23591241  0.41955677  0.1431753  -0.36858958  0.35350475\n",
      "  0.38561156 -0.28347915 -0.20845327  0.13858971  0.28390867  0.3866409\n",
      "  0.16182289  0.08862294 -0.02361779  0.37945366 -0.13112056  0.10072206\n",
      " -0.09405964 -0.35031617  0.3942728  -0.3285574   0.10972989 -0.28540993\n",
      " -0.35576847  0.17289421 -0.15837933  0.01742176  0.00376498  0.02807475\n",
      " -0.20464116  0.05706466 -0.01772147  0.0872524  -0.14125983 -0.2371473\n",
      " -0.25517848 -0.11809456 -0.11043427  0.11053006  0.2860915   0.44852898\n",
      " -0.2843232  -0.01418472  0.02983655  0.5697494 ]\n"
     ]
    }
   ],
   "source": [
    "print(\"输出hello的词向量\", model.wv['hello'])  # 词向量"
   ],
   "metadata": {
    "collapsed": false,
    "pycharm": {
     "name": "#%%\n"
    }
   }
  },
  {
   "cell_type": "markdown",
   "source": [
    "**对每个句子的所有词向量取均值，来生成一个句子的vector**"
   ],
   "metadata": {
    "collapsed": false,
    "pycharm": {
     "name": "#%% md\n"
    }
   }
  },
  {
   "cell_type": "code",
   "execution_count": 27,
   "outputs": [],
   "source": [
    "def build_sentence_vector(sentence, w2v_model, size=100):\n",
    "    sen_vec = np.zeros((size,))\n",
    "    count = 0\n",
    "    for word in sentence:\n",
    "        try:\n",
    "            sen_vec += w2v_model.wv[word]  # .reshape((1,size))\n",
    "            count += 1\n",
    "        except KeyError:\n",
    "            continue\n",
    "    if count != 0:\n",
    "        sen_vec /= count\n",
    "    return sen_vec"
   ],
   "metadata": {
    "collapsed": false,
    "pycharm": {
     "name": "#%%\n"
    }
   }
  },
  {
   "cell_type": "markdown",
   "source": [
    "\n",
    "**句向量**"
   ],
   "metadata": {
    "collapsed": false,
    "pycharm": {
     "name": "#%% md\n"
    }
   }
  },
  {
   "cell_type": "code",
   "execution_count": 28,
   "outputs": [],
   "source": [
    "sents_vec = []\n",
    "for sent in spam_df['token']:\n",
    "    sents_vec.append(build_sentence_vector(sent, model, size=100))"
   ],
   "metadata": {
    "collapsed": false,
    "pycharm": {
     "name": "#%%\n"
    }
   }
  },
  {
   "cell_type": "code",
   "execution_count": 32,
   "outputs": [
    {
     "name": "stdout",
     "output_type": "stream",
     "text": [
      "[-6.64971950e-02 -8.11969709e-02  3.38522771e-02  1.28665774e-01\n",
      "  3.49546479e-02 -2.14235565e-01  6.36148957e-02  4.10980064e-01\n",
      "  1.02862138e-01 -3.74888418e-01  5.11251353e-02 -2.55440043e-01\n",
      " -2.48650149e-01  2.24217676e-01  4.23862389e-02  5.71289708e-02\n",
      " -9.86267962e-02 -1.46806023e-01 -3.07913865e-01 -2.13156764e-01\n",
      " -3.64509981e-01  5.61306984e-03  4.42305141e-01 -2.44850055e-01\n",
      "  1.53577396e-02 -1.94223633e-01 -1.89313502e-01  4.89135414e-02\n",
      " -2.90020371e-01 -3.06456079e-01 -2.05873997e-01 -1.99328244e-02\n",
      "  7.02249337e-01  6.73020110e-02  1.61267126e-01  8.36479440e-02\n",
      "  1.98604750e-01  8.68831597e-02 -1.69676699e-01 -4.27024664e-02\n",
      " -1.99233853e-01 -3.00434729e-01 -4.58666682e-02 -5.17197893e-02\n",
      " -5.17031333e-01 -4.88360224e-01 -1.86615265e-01  6.79654069e-03\n",
      "  5.99566244e-02  5.08627325e-01  3.10416128e-01 -3.88314097e-02\n",
      "  1.90899348e-01 -3.42429212e-02 -2.98494641e-01 -2.27711794e-01\n",
      "  4.33667582e-01  7.18952823e-02 -3.93282508e-01  3.50319101e-01\n",
      "  4.07925014e-01 -2.74947993e-01 -2.14057240e-01  1.45615727e-01\n",
      "  2.82492784e-01  3.79308850e-01  1.63612679e-01  1.32217889e-01\n",
      " -5.38810230e-02  3.52012382e-01 -2.03588942e-01  1.68092518e-02\n",
      " -3.41188002e-04 -2.80790075e-01  3.21227437e-01 -3.38539315e-01\n",
      "  5.47416241e-02 -3.30789157e-01 -2.15183343e-01  7.55606482e-02\n",
      " -1.55799334e-01  1.25013827e-02 -2.50699562e-02  8.24345634e-02\n",
      " -1.79111176e-01 -9.83641714e-03  1.24107585e-01  1.50955408e-02\n",
      " -1.23637456e-01 -2.28169034e-01 -1.62184669e-01 -8.32694438e-02\n",
      " -1.50926060e-01  1.00690846e-01  2.82782818e-01  4.55220219e-01\n",
      " -3.30007107e-01  4.12835057e-02 -6.33735699e-02  4.02371673e-01]\n"
     ]
    }
   ],
   "source": [
    "print(sents_vec[0])"
   ],
   "metadata": {
    "collapsed": false,
    "pycharm": {
     "name": "#%%\n"
    }
   }
  },
  {
   "cell_type": "markdown",
   "source": [
    "#### 训练文本分类模型"
   ],
   "metadata": {
    "collapsed": false,
    "pycharm": {
     "name": "#%% md\n"
    }
   }
  },
  {
   "cell_type": "code",
   "execution_count": 33,
   "outputs": [],
   "source": [
    "from sklearn.model_selection import train_test_split\n",
    "from lightgbm import LGBMClassifier"
   ],
   "metadata": {
    "collapsed": false,
    "pycharm": {
     "name": "#%%\n"
    }
   }
  },
  {
   "cell_type": "code",
   "execution_count": 35,
   "outputs": [],
   "source": [
    "train_x, test_x, train_y, test_y = train_test_split(sents_vec, spam_df.label, test_size=0.2, shuffle=True,\n",
    "                                                    random_state=42)"
   ],
   "metadata": {
    "collapsed": false,
    "pycharm": {
     "name": "#%%\n"
    }
   }
  },
  {
   "cell_type": "code",
   "execution_count": 36,
   "outputs": [],
   "source": [
    "result = []\n",
    "clf = LGBMClassifier(class_weight='balanced', n_estimators=300, num_leaves=64, reg_alpha=1, reg_lambda=1,\n",
    "                     random_state=42)"
   ],
   "metadata": {
    "collapsed": false,
    "pycharm": {
     "name": "#%%\n"
    }
   }
  },
  {
   "cell_type": "code",
   "execution_count": 37,
   "outputs": [
    {
     "data": {
      "text/plain": "LGBMClassifier(class_weight='balanced', n_estimators=300, num_leaves=64,\n               random_state=42, reg_alpha=1, reg_lambda=1)"
     },
     "execution_count": 37,
     "metadata": {},
     "output_type": "execute_result"
    }
   ],
   "source": [
    "clf.fit(train_x, train_y)"
   ],
   "metadata": {
    "collapsed": false,
    "pycharm": {
     "name": "#%%\n"
    }
   }
  },
  {
   "cell_type": "code",
   "execution_count": 38,
   "outputs": [],
   "source": [
    "from sklearn.metrics import auc, roc_curve, f1_score, precision_score, recall_score"
   ],
   "metadata": {
    "collapsed": false,
    "pycharm": {
     "name": "#%%\n"
    }
   }
  },
  {
   "cell_type": "code",
   "execution_count": 39,
   "outputs": [],
   "source": [
    "def model_metrics(model, x, y, tp='auc'):\n",
    "    \"\"\" 评估 \"\"\"\n",
    "    yhat = model.predict(x)\n",
    "    yprob = model.predict_proba(x)[:, 1]\n",
    "    fpr, tpr, _ = roc_curve(y, yprob, pos_label=1)\n",
    "    metrics = {'AUC': auc(fpr, tpr), 'KS': max(tpr - fpr),\n",
    "               'f1': f1_score(y, yhat), 'P': precision_score(y, yhat), 'R': recall_score(y, yhat)}\n",
    "\n",
    "    roc_auc = auc(fpr, tpr)\n",
    "\n",
    "    plt.plot(fpr, tpr, 'k--', label='ROC (area = {0:.2f})'.format(roc_auc), lw=2)\n",
    "\n",
    "    plt.xlim([-0.05, 1.05])  # 设置x、y轴的上下限，以免和边缘重合，更好的观察图像的整体\n",
    "    plt.ylim([-0.05, 1.05])\n",
    "    plt.xlabel('False Positive Rate')\n",
    "    plt.ylabel('True Positive Rate')  # 可以使用中文，但需要导入一些库即字体\n",
    "    plt.title('ROC Curve')\n",
    "    plt.legend(loc=\"lower right\")\n",
    "\n",
    "    return metrics"
   ],
   "metadata": {
    "collapsed": false,
    "pycharm": {
     "name": "#%%\n"
    }
   }
  },
  {
   "cell_type": "code",
   "execution_count": 40,
   "outputs": [
    {
     "name": "stdout",
     "output_type": "stream",
     "text": [
      "train  {'AUC': 1.0, 'KS': 1.0, 'f1': 1.0, 'P': 1.0, 'R': 1.0}\n",
      "test  {'AUC': 0.9909568221070812, 'KS': 0.9706735751295337, 'f1': 0.9636963696369638, 'P': 0.954248366013072, 'R': 0.9733333333333334}\n"
     ]
    },
    {
     "data": {
      "text/plain": "<Figure size 432x288 with 1 Axes>",
      "image/png": "[encoded data removed]"
     },
     "metadata": {
      "needs_background": "light"
     },
     "output_type": "display_data"
    }
   ],
   "source": [
    "print('train ', model_metrics(clf, train_x, train_y, tp='ks'))\n",
    "print('test ', model_metrics(clf, test_x, test_y, tp='ks'))"
   ],
   "metadata": {
    "collapsed": false,
    "pycharm": {
     "name": "#%%\n"
    }
   }
  },
  {
   "cell_type": "code",
   "execution_count": null,
   "outputs": [],
   "source": [],
   "metadata": {
    "collapsed": false,
    "pycharm": {
     "name": "#%%\n"
    }
   }
  }
 ],
 "metadata": {
  "kernelspec": {
   "name": "py37",
   "language": "python",
   "display_name": "py37"
  },
  "language_info": {
   "codemirror_mode": {
    "name": "ipython",
    "version": 2
   },
   "file_extension": ".py",
   "mimetype": "text/x-python",
   "name": "python",
   "nbconvert_exporter": "python",
   "pygments_lexer": "ipython2",
   "version": "2.7.6"
  }
 },
 "nbformat": 4,
 "nbformat_minor": 0
}